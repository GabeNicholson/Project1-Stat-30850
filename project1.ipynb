{
 "cells": [
  {
   "cell_type": "code",
   "execution_count": 21,
   "metadata": {},
   "outputs": [],
   "source": [
    "import numpy as np\n",
    "import pandas as pd\n",
    "import seaborn as sns\n",
    "import matplotlib.pyplot as plt\n",
    "plt.rcParams[\"figure.figsize\"] = (7,7)"
   ]
  },
  {
   "cell_type": "code",
   "execution_count": 2,
   "metadata": {},
   "outputs": [],
   "source": [
    "df = pd.read_csv('df.csv')\n",
    "# These fix formatting issues.\n",
    "df.drop('Unnamed: 0', axis=1, inplace=True)\n",
    "df['starttime'] = df['starttime'].apply(lambda x: x[1:-1].split(','))\n",
    "df['month'] = df['starttime'].apply(lambda x: int(x[1]))"
   ]
  },
  {
   "cell_type": "code",
   "execution_count": 60,
   "metadata": {},
   "outputs": [],
   "source": [
    "# import pickle\n",
    "# filename = \"bikedata.pickle\"\n",
    "# with open(filename, 'rb') as f:\n",
    "#     data_final = pickle.load(f)\n",
    "# new = [data_final[0][i][j] for i in range(len(data_final[0])) for j in range(6)]\n",
    "# date_time = [new[i:i + 6] for i in range(0, len(new), 6)]\n",
    "# df['starttime'] = date_time\n",
    "# df.to_csv('df.csv')"
   ]
  },
  {
   "cell_type": "markdown",
   "metadata": {},
   "source": [
    "### Your task is to find a way to reliably identify which routes (if any) show changes."
   ]
  },
  {
   "cell_type": "code",
   "execution_count": 3,
   "metadata": {},
   "outputs": [
    {
     "data": {
      "text/html": [
       "<div>\n",
       "<style scoped>\n",
       "    .dataframe tbody tr th:only-of-type {\n",
       "        vertical-align: middle;\n",
       "    }\n",
       "\n",
       "    .dataframe tbody tr th {\n",
       "        vertical-align: top;\n",
       "    }\n",
       "\n",
       "    .dataframe thead th {\n",
       "        text-align: right;\n",
       "    }\n",
       "</style>\n",
       "<table border=\"1\" class=\"dataframe\">\n",
       "  <thead>\n",
       "    <tr style=\"text-align: right;\">\n",
       "      <th></th>\n",
       "      <th>starttime</th>\n",
       "      <th>duration</th>\n",
       "      <th>bikenum</th>\n",
       "      <th>station_start</th>\n",
       "      <th>start_addy</th>\n",
       "      <th>addy_end</th>\n",
       "      <th>station_end</th>\n",
       "      <th>member</th>\n",
       "      <th>days_since_Jan1_2010</th>\n",
       "      <th>day_of_week</th>\n",
       "      <th>month</th>\n",
       "    </tr>\n",
       "  </thead>\n",
       "  <tbody>\n",
       "    <tr>\n",
       "      <th>0</th>\n",
       "      <td>[2010,  9,  20,  11,  27,  4]</td>\n",
       "      <td>1012</td>\n",
       "      <td>742.0</td>\n",
       "      <td>31208</td>\n",
       "      <td>M St &amp; New Jersey Ave SE</td>\n",
       "      <td>4th &amp; M St SW</td>\n",
       "      <td>31108</td>\n",
       "      <td>True</td>\n",
       "      <td>262</td>\n",
       "      <td>Monday</td>\n",
       "      <td>9</td>\n",
       "    </tr>\n",
       "    <tr>\n",
       "      <th>1</th>\n",
       "      <td>[2010,  9,  20,  11,  41,  22]</td>\n",
       "      <td>61</td>\n",
       "      <td>32.0</td>\n",
       "      <td>31209</td>\n",
       "      <td>1st &amp; N St  SE</td>\n",
       "      <td>1st &amp; N St  SE</td>\n",
       "      <td>31209</td>\n",
       "      <td>True</td>\n",
       "      <td>262</td>\n",
       "      <td>Monday</td>\n",
       "      <td>9</td>\n",
       "    </tr>\n",
       "    <tr>\n",
       "      <th>2</th>\n",
       "      <td>[2010,  9,  20,  12,  5,  37]</td>\n",
       "      <td>2690</td>\n",
       "      <td>993.0</td>\n",
       "      <td>31600</td>\n",
       "      <td>5th &amp; K St NW</td>\n",
       "      <td>19th St &amp; Pennsylvania Ave NW</td>\n",
       "      <td>31100</td>\n",
       "      <td>True</td>\n",
       "      <td>262</td>\n",
       "      <td>Monday</td>\n",
       "      <td>9</td>\n",
       "    </tr>\n",
       "    <tr>\n",
       "      <th>3</th>\n",
       "      <td>[2010,  9,  20,  12,  6,  5]</td>\n",
       "      <td>1406</td>\n",
       "      <td>344.0</td>\n",
       "      <td>31600</td>\n",
       "      <td>5th &amp; K St NW</td>\n",
       "      <td>Park Rd &amp; Holmead Pl NW</td>\n",
       "      <td>31602</td>\n",
       "      <td>True</td>\n",
       "      <td>262</td>\n",
       "      <td>Monday</td>\n",
       "      <td>9</td>\n",
       "    </tr>\n",
       "    <tr>\n",
       "      <th>4</th>\n",
       "      <td>[2010,  9,  20,  12,  10,  43]</td>\n",
       "      <td>1413</td>\n",
       "      <td>883.0</td>\n",
       "      <td>31100</td>\n",
       "      <td>19th St &amp; Pennsylvania Ave NW</td>\n",
       "      <td>15th &amp; P St NW</td>\n",
       "      <td>31201</td>\n",
       "      <td>True</td>\n",
       "      <td>262</td>\n",
       "      <td>Monday</td>\n",
       "      <td>9</td>\n",
       "    </tr>\n",
       "  </tbody>\n",
       "</table>\n",
       "</div>"
      ],
      "text/plain": [
       "                        starttime  duration  bikenum  station_start  \\\n",
       "0   [2010,  9,  20,  11,  27,  4]      1012    742.0          31208   \n",
       "1  [2010,  9,  20,  11,  41,  22]        61     32.0          31209   \n",
       "2   [2010,  9,  20,  12,  5,  37]      2690    993.0          31600   \n",
       "3    [2010,  9,  20,  12,  6,  5]      1406    344.0          31600   \n",
       "4  [2010,  9,  20,  12,  10,  43]      1413    883.0          31100   \n",
       "\n",
       "                      start_addy                       addy_end  station_end  \\\n",
       "0       M St & New Jersey Ave SE                  4th & M St SW        31108   \n",
       "1                 1st & N St  SE                 1st & N St  SE        31209   \n",
       "2                  5th & K St NW  19th St & Pennsylvania Ave NW        31100   \n",
       "3                  5th & K St NW        Park Rd & Holmead Pl NW        31602   \n",
       "4  19th St & Pennsylvania Ave NW                 15th & P St NW        31201   \n",
       "\n",
       "   member  days_since_Jan1_2010 day_of_week  month  \n",
       "0    True                   262      Monday      9  \n",
       "1    True                   262      Monday      9  \n",
       "2    True                   262      Monday      9  \n",
       "3    True                   262      Monday      9  \n",
       "4    True                   262      Monday      9  "
      ]
     },
     "execution_count": 3,
     "metadata": {},
     "output_type": "execute_result"
    }
   ],
   "source": [
    "df.head()"
   ]
  },
  {
   "cell_type": "code",
   "execution_count": 34,
   "metadata": {},
   "outputs": [
    {
     "data": {
      "image/png": "[encoded data removed]",
      "text/plain": [
       "<Figure size 504x504 with 1 Axes>"
      ]
     },
     "metadata": {
      "needs_background": "light"
     },
     "output_type": "display_data"
    }
   ],
   "source": [
    "sns.histplot(df.duration.unique());"
   ]
  },
  {
   "cell_type": "code",
   "execution_count": 28,
   "metadata": {},
   "outputs": [
    {
     "name": "stdout",
     "output_type": "stream",
     "text": [
      "960\n",
      "6.02988204904384e-07\n"
     ]
    }
   ],
   "source": [
    "print(sum(df['duration'] > 43000))\n",
    "print(sum(df['duration'] > 43000) / sum(df['duration']))"
   ]
  },
  {
   "cell_type": "markdown",
   "metadata": {},
   "source": [
    "This can bias our models and in fact it already is biasing it. These are outliers that could also have high leverage. doesn't make sense that a bike could be gone for over 22 hours. We should remove everything greater than 12 hours. "
   ]
  },
  {
   "cell_type": "code",
   "execution_count": 30,
   "metadata": {},
   "outputs": [],
   "source": [
    "df = df[df['duration'] < 43000]"
   ]
  },
  {
   "cell_type": "code",
   "execution_count": null,
   "metadata": {},
   "outputs": [],
   "source": [
    "sns.histplot(df.duration.unique());"
   ]
  },
  {
   "cell_type": "code",
   "execution_count": 42,
   "metadata": {},
   "outputs": [
    {
     "data": {
      "text/plain": [
       "<AxesSubplot:title={'center':'Average duration for one route by month'}, xlabel='month'>"
      ]
     },
     "execution_count": 42,
     "metadata": {},
     "output_type": "execute_result"
    },
    {
     "data": {
      "image/png": "[encoded data removed]",
      "text/plain": [
       "<Figure size 504x504 with 1 Axes>"
      ]
     },
     "metadata": {
      "needs_background": "light"
     },
     "output_type": "display_data"
    }
   ],
   "source": [
    "route = df[(df['station_start'] == 31200) & (df.station_end == 31201)]\n",
    "\n",
    "\n",
    "plt.title('Average duration for one route by month')\n",
    "route.groupby('month')['duration'].mean().plot()"
   ]
  },
  {
   "cell_type": "code",
   "execution_count": 44,
   "metadata": {},
   "outputs": [
    {
     "data": {
      "text/plain": [
       "member\n",
       "False    2687.735746\n",
       "True      752.534846\n",
       "Name: duration, dtype: float64"
      ]
     },
     "execution_count": 44,
     "metadata": {},
     "output_type": "execute_result"
    }
   ],
   "source": [
    "df.groupby('member')['duration'].mean()\n",
    "# So there is definitely a difference in riding times for members and non-members."
   ]
  },
  {
   "cell_type": "code",
   "execution_count": 3,
   "metadata": {},
   "outputs": [
    {
     "data": {
      "text/plain": [
       "3674"
      ]
     },
     "execution_count": 3,
     "metadata": {},
     "output_type": "execute_result"
    }
   ],
   "source": [
    "sum((df['station_start'] == 31200) & (df.station_end == 31201))"
   ]
  },
  {
   "cell_type": "code",
   "execution_count": 36,
   "metadata": {},
   "outputs": [
    {
     "data": {
      "text/plain": [
       "31200    54146\n",
       "31201    36613\n",
       "31104    34097\n",
       "31623    33579\n",
       "31214    31294\n",
       "         ...  \n",
       "31707        5\n",
       "31266        4\n",
       "31806        2\n",
       "31052        1\n",
       "31708        1\n",
       "Name: station_start, Length: 144, dtype: int64"
      ]
     },
     "execution_count": 36,
     "metadata": {},
     "output_type": "execute_result"
    }
   ],
   "source": [
    "df['station_start'].value_counts()"
   ]
  },
  {
   "cell_type": "code",
   "execution_count": 37,
   "metadata": {},
   "outputs": [
    {
     "data": {
      "text/plain": [
       "31200    59484\n",
       "31201    40657\n",
       "31623    33991\n",
       "31214    32390\n",
       "31104    29765\n",
       "         ...  \n",
       "31706       28\n",
       "31704        9\n",
       "31707        4\n",
       "31708        1\n",
       "31806        1\n",
       "Name: station_end, Length: 144, dtype: int64"
      ]
     },
     "execution_count": 37,
     "metadata": {},
     "output_type": "execute_result"
    }
   ],
   "source": [
    "df['station_end'].value_counts()"
   ]
  },
  {
   "cell_type": "code",
   "execution_count": null,
   "metadata": {},
   "outputs": [],
   "source": []
  },
  {
   "cell_type": "code",
   "execution_count": null,
   "metadata": {},
   "outputs": [],
   "source": []
  },
  {
   "cell_type": "code",
   "execution_count": null,
   "metadata": {},
   "outputs": [],
   "source": []
  }
 ],
 "metadata": {
  "interpreter": {
   "hash": "9538652c875555cca96669dfca2072ebce91459703d44f7fca3d59b8ec9280fa"
  },
  "kernelspec": {
   "display_name": "Python 3.9.7 ('py39')",
   "language": "python",
   "name": "python3"
  },
  "language_info": {
   "codemirror_mode": {
    "name": "ipython",
    "version": 3
   },
   "file_extension": ".py",
   "mimetype": "text/x-python",
   "name": "python",
   "nbconvert_exporter": "python",
   "pygments_lexer": "ipython3",
   "version": "3.9.7"
  },
  "orig_nbformat": 4
 },
 "nbformat": 4,
 "nbformat_minor": 2
}
