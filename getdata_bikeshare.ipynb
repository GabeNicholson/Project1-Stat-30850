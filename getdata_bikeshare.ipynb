{
 "cells": [
  {
   "cell_type": "markdown",
   "metadata": {},
   "source": [
    "Running the following script creates a pickle file called \"bikedata.pickle\", \n",
    "which is the preprocessed data that you would need for the project. \n",
    "This file is equivalent to \"bikedata.RData\" for those of you using R. "
   ]
  },
  {
   "cell_type": "code",
   "execution_count": 9,
   "metadata": {},
   "outputs": [],
   "source": [
    "import requests\n",
    "from zipfile import ZipFile\n",
    "import csv\n",
    "import re\n",
    "import numpy as np\n",
    "import pickle \n",
    "import pandas as pd"
   ]
  },
  {
   "cell_type": "code",
   "execution_count": 10,
   "metadata": {},
   "outputs": [],
   "source": [
    "# citations: \n",
    "# https://www.tutorialspoint.com/downloading-files-from-web-using-python\n",
    "# https://www.analyticsvidhya.com/blog/2021/08/python-tutorial-working-with-csv-file-for-data-science/\n",
    "\n",
    "header = []\n",
    "data = []\n",
    "for i in range(2010, 2012): \n",
    "    # the data goes up to 2017, but the files are extremely large from 2011 onwards - \n",
    "    # you can decide to just use a subset\n",
    "    url = \"https://s3.amazonaws.com/capitalbikeshare-data/\" + str(i) + \"-capitalbikeshare-tripdata.zip\"\n",
    "    r = requests.get(url, allow_redirects = True)\n",
    "    zipfile_name = 'bikedata.zip'\n",
    "    open(zipfile_name, 'wb').write(r.content)\n",
    "    with ZipFile(zipfile_name, 'r') as zip:\n",
    "        zip.extractall()\n",
    "    csv_name = str(i) + \"-capitalbikeshare-tripdata.csv\"\n",
    "    csvreader = csv.reader(open(csv_name))\n",
    "    file = open(csv_name)\n",
    "    csvreader = csv.reader(file)\n",
    "    header = next(csvreader)\n",
    "    for row in csvreader:\n",
    "        data.append(row)\n",
    "    file.close()"
   ]
  },
  {
   "cell_type": "code",
   "execution_count": 11,
   "metadata": {},
   "outputs": [],
   "source": [
    "# the variables with names that end with \"_tmp\" will be further preprocessed \n",
    "n = len(data)\n",
    "duration = []\n",
    "# duration of the ride in seconds\n",
    "starttime_tmp = []\n",
    "# start time of ride #i\n",
    "station_start = []\n",
    "# station ID where the bike was checked out\n",
    "station_end = []\n",
    "# station ID where the bike was returned\n",
    "member_tmp = []\n",
    "# member (1) or nonmember (0)\n",
    "station_start_name = []\n",
    "station_end_name = []\n",
    "bikenum_tmp = []\n",
    "for i in range(n): \n",
    "    cur = data[i]\n",
    "    duration.append(cur[0])\n",
    "    starttime_tmp.append(cur[1])\n",
    "    station_start.append(cur[3])\n",
    "    station_end.append(cur[5])\n",
    "    member_tmp.append(cur[8])\n",
    "    station_start_name.append(cur[4])\n",
    "    station_end_name.append(cur[6])\n",
    "    bikenum_tmp.append(cur[7])\n",
    "station_start = np.array(station_start).astype(np.intc)\n",
    "station_end = np.array(station_end).astype(np.intc)"
   ]
  },
  {
   "cell_type": "code",
   "execution_count": 12,
   "metadata": {},
   "outputs": [],
   "source": [
    "# preprocessing starttime_tmp\n",
    "starttime = np.empty((n, 6))\n",
    "# row i = year/month/date/hour/minute/second for ride #i\n",
    "for i in range(n):\n",
    "    starttime[i,] = np.array(re.split('-|:| ', starttime_tmp[i])).astype(np.intc)\n",
    "starttime = starttime.astype(np.intc)"
   ]
  },
  {
   "cell_type": "code",
   "execution_count": 13,
   "metadata": {},
   "outputs": [],
   "source": [
    "# preprocessing member_tmp\n",
    "member = np.array(member_tmp)\n",
    "member = member == \"Member\"\n",
    "# member (1) or nonmember (0)"
   ]
  },
  {
   "cell_type": "code",
   "execution_count": 14,
   "metadata": {},
   "outputs": [],
   "source": [
    "# preprocessing bikenum_tmp\n",
    "bikenum = []\n",
    "for i in range(n):\n",
    "    tmp = re.split('w|W|,| ', bikenum_tmp[i])\n",
    "    bikenum.append([item for item in tmp if item != ''][0])\n",
    "for i in range(n):\n",
    "    cur = bikenum[i]\n",
    "    if \"?\" in cur[0]:\n",
    "        bikenum[i] = np.NAN\n",
    "bikenum = np.genfromtxt(np.array(bikenum))\n",
    "# some are NA, the data is messy for this one"
   ]
  },
  {
   "cell_type": "code",
   "execution_count": 15,
   "metadata": {},
   "outputs": [],
   "source": [
    "# creating stations \n",
    "# stations[i,0] = station ID for the i-th station, \n",
    "# stations[i,1] = station location for the i-th station\n",
    "all_stations = np.unique(np.concatenate((station_start, station_end)))\n",
    "stations = []\n",
    "for item in all_stations:\n",
    "    ind = np.argwhere(station_start == item)\n",
    "    if(len(ind) != 0):\n",
    "        location = station_start_name[ind[0][0]]\n",
    "    else: \n",
    "        location = station_end_name[np.argwhere(station_end == item)[0][0]]\n",
    "    stations.append([item, location])\n",
    "stations = np.array(stations)\n",
    "# note that stations get added to the program over time"
   ]
  },
  {
   "cell_type": "code",
   "execution_count": 16,
   "metadata": {},
   "outputs": [],
   "source": [
    "# creating days_in_month\n",
    "days_in_month = np.array([31,28,31,30,31,30,31,31,30,31,30,31]\n",
    "                         + [31,28,31,30,31,30,31,31,30,31,30,31])\n",
    "# Jan 2010, ..., Dec 2011"
   ]
  },
  {
   "cell_type": "code",
   "execution_count": 17,
   "metadata": {},
   "outputs": [],
   "source": [
    "# creating days_since_Jan1_2010\n",
    "term1 = (starttime[:,0] - 2010) * 365\n",
    "term2 = np.cumsum(days_in_month)[(starttime[:,1] - 1)]\n",
    "term3 = days_in_month[(starttime[:,1] - 1)] \n",
    "term4 = (starttime[:,2] - 1)\n",
    "days_since_Jan1_2010 = term1 + term2 - term3 + term4"
   ]
  },
  {
   "cell_type": "code",
   "execution_count": 18,
   "metadata": {},
   "outputs": [],
   "source": [
    "# creating day_of_week\n",
    "ind = np.mod((days_since_Jan1_2010 + 4), 7) \n",
    "day_of_week = np.array(['Monday','Tuesday','Wednesday','Thursday',\n",
    "               'Friday','Saturday','Sunday'])[ind]"
   ]
  },
  {
   "cell_type": "code",
   "execution_count": 19,
   "metadata": {},
   "outputs": [],
   "source": [
    "# saves the data into a pickle file\n",
    "filename = \"bikedata.pickle\"\n",
    "with open(filename, 'wb') as f:\n",
    "    pickle.dump([starttime, duration, bikenum, stations, station_start, \n",
    "                station_end, member, days_since_Jan1_2010, day_of_week], f)"
   ]
  },
  {
   "cell_type": "code",
   "execution_count": 20,
   "metadata": {},
   "outputs": [],
   "source": [
    "# to read the file, run the following. \n",
    "# data_final is a list that contains the following (in order):\n",
    "# [0] starttime , [1] duration, [2] bikenum, [3] stations, [4] station_start, \n",
    "# [5] station_end, [6]member, [7] days_since_Jan1_2010, [8] day_of_week\n",
    "filename = \"bikedata.pickle\"\n",
    "\n",
    "with open(filename, 'rb') as f:\n",
    "    data_final = pickle.load(f)"
   ]
  },
  {
   "cell_type": "code",
   "execution_count": 35,
   "metadata": {},
   "outputs": [],
   "source": [
    "start_loc = []\n",
    "end_loc = []\n",
    "\n",
    "for station_num in data_final[4]:\n",
    "    for addy in data_final[3]:\n",
    "        if int(addy[0]) == station_num:\n",
    "            start_loc.append(addy[1])\n",
    "            break\n",
    "    \n",
    "for station_num in data_final[5]:\n",
    "    for addy in data_final[3]:\n",
    "        if int(addy[0]) == station_num:\n",
    "            end_loc.append(addy[1])\n",
    "            break"
   ]
  },
  {
   "cell_type": "code",
   "execution_count": 37,
   "metadata": {},
   "outputs": [],
   "source": [
    "# for i in data_final[3]:\n",
    "#     if int(i[0]) == data_final[4][2]:\n",
    "#         print(i[0])"
   ]
  },
  {
   "cell_type": "code",
   "execution_count": 38,
   "metadata": {},
   "outputs": [],
   "source": [
    "starttime_list = [i for i in data_final[0]]"
   ]
  },
  {
   "cell_type": "code",
   "execution_count": 47,
   "metadata": {},
   "outputs": [],
   "source": [
    "data = {'starttime': starttime_list, 'duration': data_final[1], 'bikenum': data_final[2], 'station_start': data_final[4], 'start_addy': start_loc,\n",
    " 'addy_end': end_loc, 'station_end': data_final[5], 'member': data_final[6], 'days_since_Jan1_2010': data_final[7], 'day_of_week': data_final[8]} \n",
    "df = pd.DataFrame(data)"
   ]
  },
  {
   "cell_type": "code",
   "execution_count": 48,
   "metadata": {},
   "outputs": [],
   "source": [
    "df.to_csv('df.csv')"
   ]
  },
  {
   "cell_type": "code",
   "execution_count": 49,
   "metadata": {},
   "outputs": [],
   "source": [
    "df = pd.read_csv('df.csv')"
   ]
  },
  {
   "cell_type": "code",
   "execution_count": 51,
   "metadata": {},
   "outputs": [
    {
     "data": {
      "text/html": [
       "<div>\n",
       "<style scoped>\n",
       "    .dataframe tbody tr th:only-of-type {\n",
       "        vertical-align: middle;\n",
       "    }\n",
       "\n",
       "    .dataframe tbody tr th {\n",
       "        vertical-align: top;\n",
       "    }\n",
       "\n",
       "    .dataframe thead th {\n",
       "        text-align: right;\n",
       "    }\n",
       "</style>\n",
       "<table border=\"1\" class=\"dataframe\">\n",
       "  <thead>\n",
       "    <tr style=\"text-align: right;\">\n",
       "      <th></th>\n",
       "      <th>Unnamed: 0</th>\n",
       "      <th>starttime</th>\n",
       "      <th>duration</th>\n",
       "      <th>bikenum</th>\n",
       "      <th>station_start</th>\n",
       "      <th>start_addy</th>\n",
       "      <th>addy_end</th>\n",
       "      <th>station_end</th>\n",
       "      <th>member</th>\n",
       "      <th>days_since_Jan1_2010</th>\n",
       "      <th>day_of_week</th>\n",
       "    </tr>\n",
       "  </thead>\n",
       "  <tbody>\n",
       "    <tr>\n",
       "      <th>0</th>\n",
       "      <td>0</td>\n",
       "      <td>[2010    9   20   11   27    4]</td>\n",
       "      <td>1012</td>\n",
       "      <td>742.0</td>\n",
       "      <td>31208</td>\n",
       "      <td>M St &amp; New Jersey Ave SE</td>\n",
       "      <td>4th &amp; M St SW</td>\n",
       "      <td>31108</td>\n",
       "      <td>True</td>\n",
       "      <td>262</td>\n",
       "      <td>Monday</td>\n",
       "    </tr>\n",
       "    <tr>\n",
       "      <th>1</th>\n",
       "      <td>1</td>\n",
       "      <td>[2010    9   20   11   41   22]</td>\n",
       "      <td>61</td>\n",
       "      <td>32.0</td>\n",
       "      <td>31209</td>\n",
       "      <td>1st &amp; N St  SE</td>\n",
       "      <td>1st &amp; N St  SE</td>\n",
       "      <td>31209</td>\n",
       "      <td>True</td>\n",
       "      <td>262</td>\n",
       "      <td>Monday</td>\n",
       "    </tr>\n",
       "    <tr>\n",
       "      <th>2</th>\n",
       "      <td>2</td>\n",
       "      <td>[2010    9   20   12    5   37]</td>\n",
       "      <td>2690</td>\n",
       "      <td>993.0</td>\n",
       "      <td>31600</td>\n",
       "      <td>5th &amp; K St NW</td>\n",
       "      <td>19th St &amp; Pennsylvania Ave NW</td>\n",
       "      <td>31100</td>\n",
       "      <td>True</td>\n",
       "      <td>262</td>\n",
       "      <td>Monday</td>\n",
       "    </tr>\n",
       "    <tr>\n",
       "      <th>3</th>\n",
       "      <td>3</td>\n",
       "      <td>[2010    9   20   12    6    5]</td>\n",
       "      <td>1406</td>\n",
       "      <td>344.0</td>\n",
       "      <td>31600</td>\n",
       "      <td>5th &amp; K St NW</td>\n",
       "      <td>Park Rd &amp; Holmead Pl NW</td>\n",
       "      <td>31602</td>\n",
       "      <td>True</td>\n",
       "      <td>262</td>\n",
       "      <td>Monday</td>\n",
       "    </tr>\n",
       "    <tr>\n",
       "      <th>4</th>\n",
       "      <td>4</td>\n",
       "      <td>[2010    9   20   12   10   43]</td>\n",
       "      <td>1413</td>\n",
       "      <td>883.0</td>\n",
       "      <td>31100</td>\n",
       "      <td>19th St &amp; Pennsylvania Ave NW</td>\n",
       "      <td>15th &amp; P St NW</td>\n",
       "      <td>31201</td>\n",
       "      <td>True</td>\n",
       "      <td>262</td>\n",
       "      <td>Monday</td>\n",
       "    </tr>\n",
       "  </tbody>\n",
       "</table>\n",
       "</div>"
      ],
      "text/plain": [
       "   Unnamed: 0                        starttime  duration  bikenum  \\\n",
       "0           0  [2010    9   20   11   27    4]      1012    742.0   \n",
       "1           1  [2010    9   20   11   41   22]        61     32.0   \n",
       "2           2  [2010    9   20   12    5   37]      2690    993.0   \n",
       "3           3  [2010    9   20   12    6    5]      1406    344.0   \n",
       "4           4  [2010    9   20   12   10   43]      1413    883.0   \n",
       "\n",
       "   station_start                     start_addy  \\\n",
       "0          31208       M St & New Jersey Ave SE   \n",
       "1          31209                 1st & N St  SE   \n",
       "2          31600                  5th & K St NW   \n",
       "3          31600                  5th & K St NW   \n",
       "4          31100  19th St & Pennsylvania Ave NW   \n",
       "\n",
       "                        addy_end  station_end  member  days_since_Jan1_2010  \\\n",
       "0                  4th & M St SW        31108    True                   262   \n",
       "1                 1st & N St  SE        31209    True                   262   \n",
       "2  19th St & Pennsylvania Ave NW        31100    True                   262   \n",
       "3        Park Rd & Holmead Pl NW        31602    True                   262   \n",
       "4                 15th & P St NW        31201    True                   262   \n",
       "\n",
       "  day_of_week  \n",
       "0      Monday  \n",
       "1      Monday  \n",
       "2      Monday  \n",
       "3      Monday  \n",
       "4      Monday  "
      ]
     },
     "execution_count": 51,
     "metadata": {},
     "output_type": "execute_result"
    }
   ],
   "source": [
    "df.head()"
   ]
  }
 ],
 "metadata": {
  "kernelspec": {
   "display_name": "Python 3",
   "language": "python",
   "name": "python3"
  },
  "language_info": {
   "codemirror_mode": {
    "name": "ipython",
    "version": 3
   },
   "file_extension": ".py",
   "mimetype": "text/x-python",
   "name": "python",
   "nbconvert_exporter": "python",
   "pygments_lexer": "ipython3",
   "version": "3.9.7"
  }
 },
 "nbformat": 4,
 "nbformat_minor": 4
}
