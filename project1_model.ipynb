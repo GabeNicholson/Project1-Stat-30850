{
 "cells": [
  {
   "cell_type": "code",
   "execution_count": 223,
   "metadata": {},
   "outputs": [],
   "source": [
    "import numpy as np\n",
    "import pandas as pd\n",
    "import seaborn as sns\n",
    "import matplotlib.pyplot as plt\n",
    "import scipy as sp \n",
    "plt.rcParams[\"figure.figsize\"] = (7,7)"
   ]
  },
  {
   "cell_type": "code",
   "execution_count": 224,
   "metadata": {},
   "outputs": [],
   "source": [
    "df = pd.read_csv('project_data.csv')\n",
    "df.drop('Unnamed: 0', axis=1, inplace=True) # Removing a weird CSV formatting thing."
   ]
  },
  {
   "cell_type": "code",
   "execution_count": 225,
   "metadata": {},
   "outputs": [
    {
     "name": "stdout",
     "output_type": "stream",
     "text": [
      "<class 'pandas.core.frame.DataFrame'>\n",
      "RangeIndex: 1278986 entries, 0 to 1278985\n",
      "Data columns (total 15 columns):\n",
      " #   Column                Non-Null Count    Dtype  \n",
      "---  ------                --------------    -----  \n",
      " 0   starttime             1278986 non-null  object \n",
      " 1   duration              1278986 non-null  int64  \n",
      " 2   bikenum               1273703 non-null  float64\n",
      " 3   station_start         1278986 non-null  int64  \n",
      " 4   start_addy            1278986 non-null  object \n",
      " 5   addy_end              1278986 non-null  object \n",
      " 6   station_end           1278986 non-null  int64  \n",
      " 7   member                1278986 non-null  bool   \n",
      " 8   days_since_Jan1_2010  1278986 non-null  int64  \n",
      " 9   day_of_week           1278986 non-null  object \n",
      " 10  month                 1278986 non-null  int64  \n",
      " 11  date                  1278986 non-null  object \n",
      " 12  route                 1278986 non-null  object \n",
      " 13  temperature           1278986 non-null  float64\n",
      " 14  conditions            1278986 non-null  object \n",
      "dtypes: bool(1), float64(2), int64(5), object(7)\n",
      "memory usage: 137.8+ MB\n"
     ]
    }
   ],
   "source": [
    "df.info()"
   ]
  },
  {
   "cell_type": "code",
   "execution_count": 226,
   "metadata": {},
   "outputs": [
    {
     "data": {
      "text/html": [
       "<div>\n",
       "<style scoped>\n",
       "    .dataframe tbody tr th:only-of-type {\n",
       "        vertical-align: middle;\n",
       "    }\n",
       "\n",
       "    .dataframe tbody tr th {\n",
       "        vertical-align: top;\n",
       "    }\n",
       "\n",
       "    .dataframe thead th {\n",
       "        text-align: right;\n",
       "    }\n",
       "</style>\n",
       "<table border=\"1\" class=\"dataframe\">\n",
       "  <thead>\n",
       "    <tr style=\"text-align: right;\">\n",
       "      <th></th>\n",
       "      <th>duration</th>\n",
       "      <th>route</th>\n",
       "    </tr>\n",
       "  </thead>\n",
       "  <tbody>\n",
       "    <tr>\n",
       "      <th>0</th>\n",
       "      <td>1012</td>\n",
       "      <td>M St &amp; New Jersey Ave SE 4th &amp; M St SW</td>\n",
       "    </tr>\n",
       "    <tr>\n",
       "      <th>1</th>\n",
       "      <td>2690</td>\n",
       "      <td>5th &amp; K St NW 19th St &amp; Pennsylvania Ave NW</td>\n",
       "    </tr>\n",
       "    <tr>\n",
       "      <th>2</th>\n",
       "      <td>1406</td>\n",
       "      <td>5th &amp; K St NW Park Rd &amp; Holmead Pl NW</td>\n",
       "    </tr>\n",
       "    <tr>\n",
       "      <th>3</th>\n",
       "      <td>1413</td>\n",
       "      <td>19th St &amp; Pennsylvania Ave NW 15th &amp; P St NW</td>\n",
       "    </tr>\n",
       "    <tr>\n",
       "      <th>4</th>\n",
       "      <td>982</td>\n",
       "      <td>7th &amp; T St NW Massachusetts Ave &amp; Dupont Circl...</td>\n",
       "    </tr>\n",
       "    <tr>\n",
       "      <th>...</th>\n",
       "      <td>...</td>\n",
       "      <td>...</td>\n",
       "    </tr>\n",
       "    <tr>\n",
       "      <th>1278981</th>\n",
       "      <td>300</td>\n",
       "      <td>15th &amp; P St NW 17th &amp; Corcoran St NW</td>\n",
       "    </tr>\n",
       "    <tr>\n",
       "      <th>1278982</th>\n",
       "      <td>387</td>\n",
       "      <td>Convention Center / 7th &amp; M St NW 15th &amp; P St NW</td>\n",
       "    </tr>\n",
       "    <tr>\n",
       "      <th>1278983</th>\n",
       "      <td>261</td>\n",
       "      <td>Lamont &amp; Mt Pleasant NW Park Rd &amp; Holmead Pl NW</td>\n",
       "    </tr>\n",
       "    <tr>\n",
       "      <th>1278984</th>\n",
       "      <td>2060</td>\n",
       "      <td>21st &amp; I St NW New York Ave &amp; 15th St NW</td>\n",
       "    </tr>\n",
       "    <tr>\n",
       "      <th>1278985</th>\n",
       "      <td>468</td>\n",
       "      <td>18th &amp; M St NW 10th &amp; U St NW</td>\n",
       "    </tr>\n",
       "  </tbody>\n",
       "</table>\n",
       "<p>1278986 rows × 2 columns</p>\n",
       "</div>"
      ],
      "text/plain": [
       "         duration                                              route\n",
       "0            1012             M St & New Jersey Ave SE 4th & M St SW\n",
       "1            2690        5th & K St NW 19th St & Pennsylvania Ave NW\n",
       "2            1406              5th & K St NW Park Rd & Holmead Pl NW\n",
       "3            1413       19th St & Pennsylvania Ave NW 15th & P St NW\n",
       "4             982  7th & T St NW Massachusetts Ave & Dupont Circl...\n",
       "...           ...                                                ...\n",
       "1278981       300               15th & P St NW 17th & Corcoran St NW\n",
       "1278982       387   Convention Center / 7th & M St NW 15th & P St NW\n",
       "1278983       261    Lamont & Mt Pleasant NW Park Rd & Holmead Pl NW\n",
       "1278984      2060           21st & I St NW New York Ave & 15th St NW\n",
       "1278985       468                      18th & M St NW 10th & U St NW\n",
       "\n",
       "[1278986 rows x 2 columns]"
      ]
     },
     "execution_count": 226,
     "metadata": {},
     "output_type": "execute_result"
    }
   ],
   "source": [
    "df[['duration', 'route']] # Key variables to look at."
   ]
  },
  {
   "cell_type": "code",
   "execution_count": 227,
   "metadata": {},
   "outputs": [
    {
     "data": {
      "text/plain": [
       "0          2010-09-20\n",
       "1          2010-09-20\n",
       "2          2010-09-20\n",
       "3          2010-09-20\n",
       "4          2010-09-20\n",
       "              ...    \n",
       "1278981    2011-12-31\n",
       "1278982    2011-12-31\n",
       "1278983    2011-12-31\n",
       "1278984    2011-12-31\n",
       "1278985    2011-12-31\n",
       "Name: date, Length: 1278986, dtype: object"
      ]
     },
     "execution_count": 227,
     "metadata": {},
     "output_type": "execute_result"
    }
   ],
   "source": [
    "df['date'] # Compare (2010-09-20 , 2010-12-31) to (2011-09-20 , 2011-12-31)"
   ]
  },
  {
   "cell_type": "code",
   "execution_count": 228,
   "metadata": {},
   "outputs": [],
   "source": [
    "# Step one: find routes that have increase duration over time while holding constant seasonality differences. \n",
    "\n",
    "df = df[df['route'].isin(df['route'].value_counts()[:500].index)] # This reduces the search space to the top 500 most popular routes to reduce low sample variance.\n",
    "dates_2010 = df[df['date'] <= '2010-12-31']\n",
    "dates_2011 = df[df['date'] >= '2011-09-20']"
   ]
  },
  {
   "cell_type": "code",
   "execution_count": 229,
   "metadata": {},
   "outputs": [
    {
     "name": "stdout",
     "output_type": "stream",
     "text": [
      "489\n"
     ]
    }
   ],
   "source": [
    "# This gets rid of the new routes that came after December 2010. \n",
    "count = 0 \n",
    "new_routes = []\n",
    "\n",
    "for i in dates_2011['route'].unique():\n",
    "    if sum(dates_2010['route'] == i) > 0:\n",
    "        count += 1\n",
    "    else:\n",
    "        new_routes.append(i)\n",
    "dates_2011 = dates_2011[~dates_2011['route'].isin(new_routes)]\n",
    "print(count) # this should equal the number of unique routes in dec_2010"
   ]
  },
  {
   "cell_type": "code",
   "execution_count": 230,
   "metadata": {},
   "outputs": [
    {
     "name": "stdout",
     "output_type": "stream",
     "text": [
      "489\n",
      "489\n"
     ]
    }
   ],
   "source": [
    "print(dates_2010['route'].nunique())\n",
    "print(dates_2011['route'].nunique())"
   ]
  },
  {
   "cell_type": "code",
   "execution_count": 231,
   "metadata": {},
   "outputs": [
    {
     "data": {
      "text/plain": [
       "489"
      ]
     },
     "execution_count": 231,
     "metadata": {},
     "output_type": "execute_result"
    }
   ],
   "source": [
    "# Checks to make sure the routes are all aligned properly.\n",
    "sum(dates_2010.groupby('route')['duration'].mean().index == dates_2011.groupby('route')['duration'].mean().index)"
   ]
  },
  {
   "cell_type": "code",
   "execution_count": 232,
   "metadata": {},
   "outputs": [
    {
     "data": {
      "text/plain": [
       "route\n",
       "19th St & Constitution Ave NW L'Enfant Plaza / 7th & C St SW          -2268.856552\n",
       "14th & G St NW 8th & H St NW                                          -2177.601351\n",
       "Massachusetts Ave & Dupont Circle NW New York Ave & 15th St NW        -2147.007097\n",
       "8th & H St NW 14th & G St NW                                          -1723.653595\n",
       "C & O Canal & Wisconsin Ave NW Georgetown Harbor / 30th St NW         -1509.000562\n",
       "Columbus Circle / Union Station USDA / 12th & Independence Ave SW     -1226.750831\n",
       "Massachusetts Ave & Dupont Circle NW Calvert & Biltmore St NW         -1176.433765\n",
       "L'Enfant Plaza / 7th & C St SW Maine Ave & 7th St SW                  -1172.372348\n",
       "Georgetown Harbor / 30th St NW Massachusetts Ave & Dupont Circle NW   -1093.083013\n",
       "Massachusetts Ave & Dupont Circle NW 10th St & Constitution Ave NW    -1029.860368\n",
       "Name: duration, dtype: float64"
      ]
     },
     "execution_count": 232,
     "metadata": {},
     "output_type": "execute_result"
    }
   ],
   "source": [
    "plausible_routes = (dates_2011.groupby('route')['duration'].mean() - dates_2010.groupby('route')['duration'].mean()).sort_values()\n",
    "plausible_routes[:10]\n",
    "# Negative values indicate a decrease in duration over time. "
   ]
  },
  {
   "cell_type": "code",
   "execution_count": 233,
   "metadata": {},
   "outputs": [],
   "source": [
    "top_duration_decrease = plausible_routes[:50].index\n",
    "top_duration_increase = plausible_routes[-50:].index"
   ]
  },
  {
   "cell_type": "code",
   "execution_count": 244,
   "metadata": {},
   "outputs": [
    {
     "name": "stdout",
     "output_type": "stream",
     "text": [
      "['2010-10-08' '2010-10-09' '2010-10-10' '2010-10-11' '2010-10-12'\n",
      " '2010-10-16' '2010-10-17' '2010-10-22' '2010-10-23' '2010-11-03'\n",
      " '2010-11-12' '2010-11-13' '2010-11-18' '2010-11-20' '2010-11-21'\n",
      " '2010-11-26' '2010-11-27' '2010-12-02' '2010-12-11' '2010-12-18'\n",
      " '2010-12-19' '2010-12-29']\n"
     ]
    },
    {
     "data": {
      "text/plain": [
       "array(['2011-09-20', '2011-09-21', '2011-09-22', '2011-09-23',\n",
       "       '2011-09-25', '2011-09-26', '2011-09-27', '2011-09-28',\n",
       "       '2011-09-29', '2011-09-30', '2011-10-03', '2011-10-04',\n",
       "       '2011-10-05', '2011-10-06', '2011-10-07', '2011-10-08',\n",
       "       '2011-10-09', '2011-10-10', '2011-10-11', '2011-10-12',\n",
       "       '2011-10-15', '2011-10-16', '2011-10-17', '2011-10-18',\n",
       "       '2011-10-21', '2011-10-22', '2011-10-23', '2011-10-24',\n",
       "       '2011-10-25', '2011-10-26', '2011-10-27', '2011-10-28',\n",
       "       '2011-10-29', '2011-10-31', '2011-11-01', '2011-11-02',\n",
       "       '2011-11-03', '2011-11-04', '2011-11-05', '2011-11-06',\n",
       "       '2011-11-07', '2011-11-08', '2011-11-09', '2011-11-10',\n",
       "       '2011-11-11', '2011-11-14', '2011-11-15', '2011-11-16',\n",
       "       '2011-11-17', '2011-11-18', '2011-11-19', '2011-11-21',\n",
       "       '2011-11-25', '2011-11-27', '2011-11-28', '2011-11-29',\n",
       "       '2011-11-30', '2011-12-01', '2011-12-02', '2011-12-03',\n",
       "       '2011-12-05', '2011-12-08', '2011-12-09', '2011-12-13',\n",
       "       '2011-12-14', '2011-12-15', '2011-12-17', '2011-12-19',\n",
       "       '2011-12-20', '2011-12-21', '2011-12-28', '2011-12-29',\n",
       "       '2011-12-30'], dtype=object)"
      ]
     },
     "execution_count": 244,
     "metadata": {},
     "output_type": "execute_result"
    }
   ],
   "source": [
    "# Okay so the dates are asymmetric, should I also condition on the mean being from the same month?\n",
    "print(dates_2010[dates_2010['route'] == top_duration_decrease[10]]['date'].unique())\n",
    "dates_2011[dates_2011['route'] == top_duration_decrease[10]]['date'].unique()"
   ]
  },
  {
   "cell_type": "code",
   "execution_count": 234,
   "metadata": {},
   "outputs": [
    {
     "name": "stdout",
     "output_type": "stream",
     "text": [
      "53\n",
      "144\n"
     ]
    }
   ],
   "source": [
    "print(len(dates_2010[dates_2010['route'] == top_duration_decrease[10]]))\n",
    "print(len(dates_2011[dates_2011['route'] == top_duration_decrease[10]]))\n",
    "# So the number in each year is uneven. This may also signify that people are using a bike route more often because it is now faster or more accessible."
   ]
  },
  {
   "cell_type": "code",
   "execution_count": 235,
   "metadata": {},
   "outputs": [
    {
     "data": {
      "text/plain": [
       "273.2267586206899"
      ]
     },
     "execution_count": 235,
     "metadata": {},
     "output_type": "execute_result"
    }
   ],
   "source": [
    "combined = pd.concat((dates_2010,dates_2011))\n",
    "permuted_durations = np.random.permutation(combined[combined['route'] == top_duration_decrease[0]]['duration'])\n",
    "np.mean(permuted_durations[29:]) - np.mean(permuted_durations[:29]) # Proof of concept for the function permutation_calc()."
   ]
  },
  {
   "cell_type": "code",
   "execution_count": 236,
   "metadata": {},
   "outputs": [],
   "source": [
    "def permutation_calc(plausible_route_list, M):\n",
    "    permutation_means = {}\n",
    "    for route in plausible_route_list:\n",
    "        permutation_means[route] = [] # Instantiate dictionary.\n",
    "        num_samples_2010 = len(dates_2010[dates_2010['route'] == route])\n",
    "        for i in range(M):\n",
    "            permuted_durations = np.random.permutation(combined[combined['route'] == route]['duration'])\n",
    "            perm_mean_dif = np.mean(permuted_durations[num_samples_2010:]) - np.mean(permuted_durations[:num_samples_2010]) # Mean duration in 2011 - mean duration in 2010.\n",
    "            permutation_means[route].append(perm_mean_dif)\n",
    "    return permutation_means\n"
   ]
  },
  {
   "cell_type": "code",
   "execution_count": 238,
   "metadata": {},
   "outputs": [],
   "source": [
    "# permutation_means = permutation_calc(top_duration_decrease, 100)"
   ]
  },
  {
   "cell_type": "code",
   "execution_count": 262,
   "metadata": {},
   "outputs": [],
   "source": [
    "def t_permutation_calc(plausible_route_list):\n",
    "    p_values = []\n",
    "    permutation_test = {}\n",
    "    for route in plausible_route_list:\n",
    "        permutation_test[route] = [] # Instantiate dictionary.\n",
    "\n",
    "        samples_2010 = dates_2010[dates_2010['route'] == route]['duration']\n",
    "        samples_2011 = dates_2011[dates_2011['route'] == route]['duration']\n",
    "\n",
    "        t_test = sp.stats.ttest_ind(samples_2010, samples_2011, permutations = 20000)\n",
    "        permutation_test[route].append(t_test)\n",
    "        p_values.append(t_test[1])\n",
    "    return permutation_test, np.array(p_values)\n"
   ]
  },
  {
   "cell_type": "code",
   "execution_count": 266,
   "metadata": {},
   "outputs": [],
   "source": [
    "permutation_means_decrease, p_values_d = t_permutation_calc(top_duration_decrease)\n",
    "permutation_means_increase, p_values_i = t_permutation_calc(top_duration_increase)"
   ]
  },
  {
   "cell_type": "code",
   "execution_count": 268,
   "metadata": {},
   "outputs": [
    {
     "name": "stdout",
     "output_type": "stream",
     "text": [
      "43\n"
     ]
    },
    {
     "data": {
      "text/plain": [
       "9"
      ]
     },
     "execution_count": 268,
     "metadata": {},
     "output_type": "execute_result"
    }
   ],
   "source": [
    "print(sum(p_values_d < 0.05))\n",
    "sum(p_values_i < 0.05)"
   ]
  },
  {
   "cell_type": "code",
   "execution_count": null,
   "metadata": {},
   "outputs": [],
   "source": []
  },
  {
   "cell_type": "code",
   "execution_count": null,
   "metadata": {},
   "outputs": [],
   "source": []
  }
 ],
 "metadata": {
  "interpreter": {
   "hash": "9538652c875555cca96669dfca2072ebce91459703d44f7fca3d59b8ec9280fa"
  },
  "kernelspec": {
   "display_name": "Python 3.9.7 ('py39')",
   "language": "python",
   "name": "python3"
  },
  "language_info": {
   "codemirror_mode": {
    "name": "ipython",
    "version": 3
   },
   "file_extension": ".py",
   "mimetype": "text/x-python",
   "name": "python",
   "nbconvert_exporter": "python",
   "pygments_lexer": "ipython3",
   "version": "3.9.7"
  },
  "orig_nbformat": 4
 },
 "nbformat": 4,
 "nbformat_minor": 2
}
